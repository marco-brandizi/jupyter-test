{
 "cells": [
  {
   "cell_type": "code",
   "execution_count": 2,
   "metadata": {},
   "outputs": [
    {
     "data": {
      "text/plain": [
       "[{'s': Value(uri:'http://www.openlinksw.com/virtrdf-data-formats#default-iid'),\n",
       "  'p': Value(uri:'http://www.w3.org/1999/02/22-rdf-syntax-ns#type'),\n",
       "  'o': Value(uri:'http://www.openlinksw.com/schemas/virtrdf#QuadMapFormat')},\n",
       " {'s': Value(uri:'http://www.openlinksw.com/virtrdf-data-formats#default-iid-nullable'),\n",
       "  'p': Value(uri:'http://www.w3.org/1999/02/22-rdf-syntax-ns#type'),\n",
       "  'o': Value(uri:'http://www.openlinksw.com/schemas/virtrdf#QuadMapFormat')},\n",
       " {'s': Value(uri:'http://www.openlinksw.com/virtrdf-data-formats#default-iid-nonblank'),\n",
       "  'p': Value(uri:'http://www.w3.org/1999/02/22-rdf-syntax-ns#type'),\n",
       "  'o': Value(uri:'http://www.openlinksw.com/schemas/virtrdf#QuadMapFormat')},\n",
       " {'s': Value(uri:'http://www.openlinksw.com/virtrdf-data-formats#default-iid-nonblank-nullable'),\n",
       "  'p': Value(uri:'http://www.w3.org/1999/02/22-rdf-syntax-ns#type'),\n",
       "  'o': Value(uri:'http://www.openlinksw.com/schemas/virtrdf#QuadMapFormat')},\n",
       " {'s': Value(uri:'http://www.openlinksw.com/virtrdf-data-formats#default'),\n",
       "  'p': Value(uri:'http://www.w3.org/1999/02/22-rdf-syntax-ns#type'),\n",
       "  'o': Value(uri:'http://www.openlinksw.com/schemas/virtrdf#QuadMapFormat')}]"
      ]
     },
     "metadata": {},
     "output_type": "display_data"
    }
   ],
   "source": [
    "from SPARQLWrapper import SPARQLWrapper2\n",
    "\n",
    "query = \"SELECT * WHERE { ?s ?p ?o. } LIMIT 5\"\n",
    "sparql = SPARQLWrapper2 ( \"http://knetminer-data.cyverseuk.org/lodestar/sparql\" )\n",
    "sparql.setQuery ( query )\n",
    "\n",
    "result = sparql.query().bindings\n",
    "display ( result )"
   ]
  },
  {
   "cell_type": "code",
   "execution_count": null,
   "metadata": {},
   "outputs": [],
   "source": []
  }
 ],
 "metadata": {
  "kernelspec": {
   "display_name": "Python 3",
   "language": "python",
   "name": "python3"
  },
  "language_info": {
   "codemirror_mode": {
    "name": "ipython",
    "version": 3
   },
   "file_extension": ".py",
   "mimetype": "text/x-python",
   "name": "python",
   "nbconvert_exporter": "python",
   "pygments_lexer": "ipython3",
   "version": "3.7.4"
  }
 },
 "nbformat": 4,
 "nbformat_minor": 2
}
